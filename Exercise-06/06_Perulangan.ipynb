{
 "cells": [
  {
   "cell_type": "markdown",
   "metadata": {},
   "source": [
    "***\n",
    "<h1 align=\"center\">Exercise 06</h1>\n",
    " \n",
    "***\n",
    "## While Loop\n",
    "## Exercise 6.1\n",
    "isilah bagian rumpang berikut. xx diganti tanggal lahir dan yy diganti menjadi bulan lahir. tandanya menyesuaikan yang lebih besar."
   ]
  },
  {
   "cell_type": "code",
   "execution_count": 1,
   "metadata": {},
   "outputs": [],
   "source": [
    "#menentukan banyak pengulangan\n",
    "n = 18\n",
    "\n",
    "#melakukan pengulangan\n",
    "i = 10\n",
    "\n",
    "while i >= n :\n",
    "    print (\"Semua masalah pasti ada jalan keluarnya\")\n",
    "    #diisi motto kalian\n",
    "    i = i + 1 # sesuaikan dengan atas agar fungsi perulangan dapat berhenti\n"
   ]
  },
  {
   "cell_type": "markdown",
   "metadata": {},
   "source": [
    "## Exercise 6.2\n",
    "\n",
    "Buatlah code seperti yang dicontohkan pada modul agar user dapat menginputkan sendiri jumlah n yang diinginkan"
   ]
  },
  {
   "cell_type": "code",
   "execution_count": 9,
   "metadata": {},
   "outputs": [
    {
     "name": "stdout",
     "output_type": "stream",
     "text": [
      "7\n",
      "8\n",
      "9\n",
      "10\n",
      "11\n",
      "12\n",
      "13\n",
      "14\n",
      "15\n",
      "16\n",
      "17\n",
      "18\n"
     ]
    }
   ],
   "source": [
    "#Kerjakan disini\n",
    "n = int(input(\"input nilai n: \"))\n",
    "i=7\n",
    "while i <= n:\n",
    "    print(i)\n",
    "    i += 1"
   ]
  },
  {
   "cell_type": "markdown",
   "metadata": {},
   "source": [
    "## Excercise 6.3\n",
    "\n",
    "isilah xx, yy, dan tanda rumpang seperti pada exercise 6.1\n"
   ]
  },
  {
   "cell_type": "code",
   "execution_count": 3,
   "metadata": {},
   "outputs": [
    {
     "name": "stdout",
     "output_type": "stream",
     "text": [
      "Baris ke-18 : Peaky Blinders\n",
      "Baris ke-17 : Peaky Blinders\n",
      "Baris ke-16 : Peaky Blinders\n",
      "Baris ke-15 : Peaky Blinders\n",
      "Baris ke-14 : Peaky Blinders\n",
      "Baris ke-13 : Peaky Blinders\n",
      "Baris ke-12 : Peaky Blinders\n",
      "Baris ke-11 : Peaky Blinders\n",
      "Baris ke-10 : Peaky Blinders\n"
     ]
    }
   ],
   "source": [
    "#melakukan pengulangan\n",
    "i = 18\n",
    "\n",
    "while i >= 10 :\n",
    "    print (\"Baris ke-%d : Peaky Blinders\"%i)\n",
    "    #isi titik-titik dengan judul film favorit kalian\n",
    "    i = i - 1 "
   ]
  },
  {
   "cell_type": "markdown",
   "metadata": {},
   "source": [
    "## FOR LOOP\n",
    "\n",
    "## Exercise 6.4\n",
    "\n",
    "munculkan 3 dari 7 elemen yang berada di dalam list1 dan list2\n"
   ]
  },
  {
   "cell_type": "code",
   "execution_count": 4,
   "metadata": {},
   "outputs": [
    {
     "name": "stdout",
     "output_type": "stream",
     "text": [
      "2 nasi goreng Bandung\n",
      "3 mie goreng Palu\n",
      "4 opor ayam Poso\n"
     ]
    }
   ],
   "source": [
    "list1 = [\"magelangan\",\"nasi goreng\",\"mie goreng\",\"opor ayam\",\"tempe goreng\",\"nasi orak arik\",\"ramen\"] #masukkan 7 list makanan favorit kalian\n",
    "list2 = [\"Bekasi\",\"Bandung\",\"Palu\",\"Poso\",\"Manado\",\"Bogor\",\"Malang\"] #masukkan 7 list kota favorit kalian\n",
    "\n",
    "for i in range(1,4) :\n",
    "    print(i+1, list1[i] , list2[i])"
   ]
  },
  {
   "cell_type": "markdown",
   "metadata": {},
   "source": [
    "## Perulangan Bersarang\n",
    "\n",
    "## Exercise 6.5"
   ]
  },
  {
   "cell_type": "code",
   "execution_count": 7,
   "metadata": {},
   "outputs": [
    {
     "name": "stdout",
     "output_type": "stream",
     "text": [
      "486 468 450 432 414 396 378 360 342 324 \n",
      "459 442 425 408 391 374 357 340 323 306 289 \n",
      "432 416 400 384 368 352 336 320 304 288 272 256 \n",
      "405 390 375 360 345 330 315 300 285 270 255 240 225 \n",
      "378 364 350 336 322 308 294 280 266 252 238 224 210 196 \n",
      "351 338 325 312 299 286 273 260 247 234 221 208 195 182 169 \n",
      "324 312 300 288 276 264 252 240 228 216 204 192 180 168 156 144 \n",
      "297 286 275 264 253 242 231 220 209 198 187 176 165 154 143 132 121 \n",
      "270 260 250 240 230 220 210 200 190 180 170 160 150 140 130 120 110 100 \n"
     ]
    }
   ],
   "source": [
    "i = 18\n",
    "while i >= 10:\n",
    "    j = 27\n",
    "    while j>=i:\n",
    "        print(\"%d \" % (i*j), end = '')\n",
    "        j = j - 1\n",
    "    print()\n",
    "    i-=1"
   ]
  },
  {
   "cell_type": "markdown",
   "metadata": {},
   "source": [
    "## Pernyataan Loncat\n",
    "\n",
    "## Exercise 6.\n",
    "\n",
    "Buatlah fungsi berikut agar muncul angka hingga berhenti sesuai dengan nilai qq\n",
    "qq = angka favorit kalian\n",
    "pp>qq"
   ]
  },
  {
   "cell_type": "code",
   "execution_count": 8,
   "metadata": {},
   "outputs": [
    {
     "name": "stdout",
     "output_type": "stream",
     "text": [
      "0123456789101112131415161718"
     ]
    }
   ],
   "source": [
    "for i in range(50):\n",
    "    print(i,end='')\n",
    "    if i == 18:\n",
    "        break"
   ]
  },
  {
   "cell_type": "markdown",
   "metadata": {},
   "source": [
    "***\n",
    "<h1 align=\"center\">WELL DONE</h1>\n",
    " \n",
    "***"
   ]
  }
 ],
 "metadata": {
  "interpreter": {
   "hash": "cd08f94adcf3cbae37fe85286256f4c2a10455ca9094fd053e9f3d3f09647223"
  },
  "kernelspec": {
   "display_name": "Python 3.9.7 64-bit",
   "language": "python",
   "name": "python3"
  },
  "language_info": {
   "codemirror_mode": {
    "name": "ipython",
    "version": 3
   },
   "file_extension": ".py",
   "mimetype": "text/x-python",
   "name": "python",
   "nbconvert_exporter": "python",
   "pygments_lexer": "ipython3",
   "version": "3.9.7"
  },
  "orig_nbformat": 4
 },
 "nbformat": 4,
 "nbformat_minor": 2
}
