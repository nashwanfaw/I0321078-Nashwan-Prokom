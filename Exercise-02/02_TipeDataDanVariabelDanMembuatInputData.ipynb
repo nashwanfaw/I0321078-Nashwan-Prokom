{
 "cells": [
  {
   "cell_type": "markdown",
   "metadata": {},
   "source": [
    "# Exercise 2\n",
    "\n",
    "1. Salinlah kode di bawah ini dan isilah titik-titik sesuai dengan perintah yang ada\n",
    "![](./images/02_TipeDataDanVariabel.png)"
   ]
  },
  {
   "cell_type": "code",
   "execution_count": 3,
   "metadata": {},
   "outputs": [
    {
     "name": "stdout",
     "output_type": "stream",
     "text": [
      "Nama lengkap saya adalah Nashwan Fawzy\n",
      "Nama panggilan saya adalah fawzy\n",
      "Umur saya saat ini adalah 18\n",
      "Tipe data variabel _umur adalah <class 'int'>\n",
      "Umur saya saat ini adalah delapan belas tahun\n",
      "Tipe data variabel _umur adalah <class 'str'>\n",
      "Tinggi badan saya adalah 168.5\n",
      "Tipe data variabel tinggi_badan adalah <class 'float'>\n",
      "Saya merupakan mahasiswa angkatan 2021 adalah True\n",
      "Tipe data variabel mahasiswaangkatan2021 adalah <class 'bool'>\n"
     ]
    }
   ],
   "source": [
    "#Kerjakan nomor satu disini\n",
    "#proses memasukkan data variabel\n",
    "Nama = \"Nashwan Fawzy\" #isi dengan nama lengkap kalian\n",
    "nama = \"fawzy\" #isi dengan nama panggilan kalian\n",
    "#proses mencetak variabel\n",
    "print(\"Nama lengkap saya adalah\", Nama) #isi bagian rumpang dengan variabel yang sesuai\n",
    "print(\"Nama panggilan saya adalah\", nama)\n",
    "\n",
    "#nilai dan tipe variabel dapat diubah\n",
    "_umur = 18 #isi dengan umur kalian\n",
    "print(\"Umur saya saat ini adalah\", _umur) #mencetak nilai umur\n",
    "print(\"Tipe data variabel _umur adalah\", type(_umur))\n",
    "_umur = \"delapan belas tahun\" #isi dengan teks berupa umur kalain jika dijadikan kalimat, misal \"sepuluh tahun\"\n",
    "print(\"Umur saya saat ini adalah\", _umur) #mencetak nilai umur\n",
    "print(\"Tipe data variabel _umur adalah\", type(_umur))\n",
    "tinggi_badan = 168.5 #isi dengan tinggi badan kalian ditambah 0.5\n",
    "print(\"Tinggi badan saya adalah\", tinggi_badan) #mencetak tinggi badan\n",
    "print(\"Tipe data variabel tinggi_badan adalah\", type(tinggi_badan))\n",
    "mahasiswaangkatan2021 = True\n",
    "print(\"Saya merupakan mahasiswa angkatan 2021 adalah\", mahasiswaangkatan2021)\n",
    "print(\"Tipe data variabel mahasiswaangkatan2021 adalah\", type(mahasiswaangkatan2021))\n",
    "\n"
   ]
  },
  {
   "cell_type": "markdown",
   "metadata": {},
   "source": [
    "2. Salinlah kode di bawah ini dan isilah titik-titik sesuai dengan perintah yang ada\n",
    "![](./images/02_MembuatInputData.png)"
   ]
  },
  {
   "cell_type": "code",
   "execution_count": 5,
   "metadata": {},
   "outputs": [
    {
     "name": "stdout",
     "output_type": "stream",
     "text": [
      "Program Konversi Panjang dalam Meter ke Berbagai Satuan\n",
      "\n",
      "\n",
      "30 m = 0.03 km\n",
      "30 m = 3000 cm\n",
      "30 m = 30000 mm\n",
      "30 m = 30000000 μm\n",
      "30 m = 30000000000 nm\n",
      "30 m = 1181.1024 in\n",
      "30 m = 98.4252 ft\n",
      "30 m = 32.8084 yard\n",
      "30 m = 0.0186 mi\n",
      "30 m = 0.0531 nmi\n"
     ]
    }
   ],
   "source": [
    "#Kerjakan nomor satu disini\n",
    "#simbol miu --> μ\n",
    "print(\"Program Konversi Panjang dalam Meter ke Berbagai Satuan\")\n",
    "print(\"\")\n",
    "length = int(input(\"Masukkan nilai panjang dalam meter: \"))\n",
    "feet = length / 0.3048\n",
    "print(\"\")\n",
    "print(length, \"m =\", length / 1000, \"km\") #meter ke kilometer\n",
    "print(length, \"m =\", length * 100, \"cm\") #meter ke centimeter\n",
    "print(length, \"m =\", length * 1000, \"mm\") #meter ke milimeter\n",
    "print(length, \"m =\", length * 1000000, \"μm\") #meter ke mikrometer\n",
    "print(length, \"m =\", length * 1000000000, \"nm\") #meter ke nanometer\n",
    "#Round berfungsi untuk membulatkan hasil ke N angka di belakang koma\n",
    "print(length, \"m =\", round(feet * 12, 4), \"in\") #meter ke inchi\n",
    "print(length, \"m =\", round(feet, 4), \"ft\") #meter ke kaki\n",
    "print(length, \"m =\", round(feet / 3, 4), \"yard\") #meter ke yard\n",
    "print(length, \"m =\", round(feet / 5280, 4), \"mi\") #meter ke mil\n",
    "print(length, \"m =\", round(feet / 1852, 4), \"nmi\") #meter ke mil laut\n"
   ]
  },
  {
   "cell_type": "markdown",
   "metadata": {},
   "source": [
    "### Cara Pengumpulan\n",
    "\n",
    "1. Buka *New Terminal*\n",
    "2. Pastikan *path* Terminal adalah folder repositori kalian (NIM-Nama-Prokom).\n",
    "3. Tambahkan file yang akan ditrack dengan `git add <nama file>`. Nama file bisa diubah . (titik) yang artinya semua file dalam folder akan ditrack.\n",
    "4. Lakukan commit perubahan dengan `git commit -m <deskripsi>`.\n",
    "5. Lakukan push dengan `git push -u origin <nama branch>`. Nama branch dapat diketahui dengan `git branch`.\n",
    "6. Pastikan Exercise-02 telah terupload dan dapat diakses di repositori dengan mengaksesnya di browser."
   ]
  }
 ],
 "metadata": {
  "interpreter": {
   "hash": "ac59ebe37160ed0dfa835113d9b8498d9f09ceb179beaac4002f036b9467c963"
  },
  "kernelspec": {
   "display_name": "Python 3.9.8 64-bit",
   "language": "python",
   "name": "python3"
  },
  "language_info": {
   "codemirror_mode": {
    "name": "ipython",
    "version": 3
   },
   "file_extension": ".py",
   "mimetype": "text/x-python",
   "name": "python",
   "nbconvert_exporter": "python",
   "pygments_lexer": "ipython3",
   "version": "3.9.7"
  },
  "orig_nbformat": 4
 },
 "nbformat": 4,
 "nbformat_minor": 2
}
